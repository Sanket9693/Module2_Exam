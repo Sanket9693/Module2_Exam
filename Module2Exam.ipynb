{
  "nbformat": 4,
  "nbformat_minor": 0,
  "metadata": {
    "colab": {
      "name": "Module2Exam.ipynb",
      "provenance": [],
      "collapsed_sections": []
    },
    "kernelspec": {
      "name": "python3",
      "display_name": "Python 3"
    },
    "language_info": {
      "name": "python"
    }
  },
  "cells": [
    {
      "cell_type": "code",
      "source": [
        "#Write code to find the average of ‘n’ numbers entered by the user to function avg ( ).\n",
        "#Ex: avg (10, 20, 30, 40) => average is: 70\n",
        "#avg (5, 10, 15) => average is: 10\n",
        "ls=[]\n",
        "n=int(input(\"How many no you want to enter: \"))\n",
        "for i in range(1,n+1):\n",
        "  n1=int(input(\"Enter any number: \"))\n",
        "  ls.append(n1)\n",
        "print(ls)\n",
        "avg=sum(ls)/len(ls)\n",
        "print(\"Average=\",avg)\n"
      ],
      "metadata": {
        "id": "gosgSLsqrXPt",
        "colab": {
          "base_uri": "https://localhost:8080/"
        },
        "outputId": "5352f687-9046-4698-a68c-ffc41a75ed7a"
      },
      "execution_count": 64,
      "outputs": [
        {
          "output_type": "stream",
          "name": "stdout",
          "text": [
            "How many no you want to enter: 3\n",
            "Enter any number: 5\n",
            "Enter any number: 10\n",
            "Enter any number: 15\n",
            "[5, 10, 15]\n",
            "Average= 10.0\n"
          ]
        }
      ]
    },
    {
      "cell_type": "code",
      "source": [
        "#Q.4) Write a code to accept a number & print\n",
        "#in words.\n",
        "#Ex: 123 Three Two One\n",
        "n=int(input(\"Enter a number: \"))\n",
        "list={1:\"One\",2:\"Two\",3:\"Three\",4:\"Four\",5:\"Five\",6:\"Six\",7:\"Seven\",8:\"Eight\",9:\"Nine\"}\n",
        "while n!=0:\n",
        "  r=n%10\n",
        "  if r in list:\n",
        "    print(list[r])\n",
        "  n=n//10\n"
      ],
      "metadata": {
        "colab": {
          "base_uri": "https://localhost:8080/"
        },
        "id": "ss_BfGYp0edZ",
        "outputId": "71532a95-f831-470e-b2e2-180c60726598"
      },
      "execution_count": 71,
      "outputs": [
        {
          "output_type": "stream",
          "name": "stdout",
          "text": [
            "Enter a number: 123\n",
            "Three\n",
            "Two\n",
            "One\n"
          ]
        }
      ]
    },
    {
      "cell_type": "code",
      "source": [
        "# Q.3)Print\n",
        "# 1\n",
        "# 0 1\n",
        "# 0 1 0\n",
        "# 1 0 1 0\n",
        "# 1 0 1 0 1\n",
        "\n",
        "for i in range(1,6):\n",
        "  for j in range(1,i+1):\n",
        "    print(j%2,end=\" \")\n",
        "  print()\n"
      ],
      "metadata": {
        "colab": {
          "base_uri": "https://localhost:8080/"
        },
        "id": "dWSSt3dYxYZu",
        "outputId": "45094fa1-b604-4b9f-8b58-61de5d85a594"
      },
      "execution_count": 66,
      "outputs": [
        {
          "output_type": "stream",
          "name": "stdout",
          "text": [
            "1 \n",
            "1 0 \n",
            "1 0 1 \n",
            "1 0 1 0 \n",
            "1 0 1 0 1 \n"
          ]
        }
      ]
    },
    {
      "cell_type": "code",
      "source": [
        "# Q.5) Create class \n",
        "\n",
        "class Maths:\n",
        "  def Set_data(self):\n",
        "    self.a=int(input(\"Enter first number: \"))\n",
        "    self.b=int(input(\"Enter second number: \"))\n",
        "  \n",
        "  def Add(self):\n",
        "    self.addition=self.a + self.b\n",
        "  \n",
        "  def Div(self):\n",
        "    if self.b==0:\n",
        "      print(\"Division not possible\")\n",
        "    else:\n",
        "      self.division=self.a/self.b\n",
        "  \n",
        "  def Sub(self):\n",
        "    self.subtract=self.a - self.b\n",
        "\n",
        "  def Mul(self):\n",
        "    self.multiply=self.a * self.b\n",
        "  \n",
        "  def Display(self):\n",
        "    print(\"Addition=\",self.addition,\"Division=\",self.division,\"Subtraction=\",self.subtract,\"Multiplication=\",self.multiply)\n",
        "    \n",
        "\n",
        "s1=Maths()\n",
        "s1.Set_data()\n",
        "s1.Add()\n",
        "s1.Div()\n",
        "s1.Sub()\n",
        "s1.Mul()\n",
        "s1.Display()"
      ],
      "metadata": {
        "colab": {
          "base_uri": "https://localhost:8080/"
        },
        "id": "xYXFiWLL18FO",
        "outputId": "5ff26091-8ed4-4aab-8be5-9cd09dbd9e6e"
      },
      "execution_count": 19,
      "outputs": [
        {
          "output_type": "stream",
          "name": "stdout",
          "text": [
            "Enter first number: 20\n",
            "Enter second number: 10\n",
            "Addition= 30 Division= 2.0 Subtraction= 10 Multiplication= 200\n"
          ]
        }
      ]
    },
    {
      "cell_type": "code",
      "source": [
        "# Q.8) Print\n",
        "#1\n",
        "#3 3\n",
        "#5 5 5\n",
        "#6 6 6 6\n",
        "#7 7 7 7 7\n",
        "\n",
        "for i in range(1,6):\n",
        "  for j in range(1,i+1):\n",
        "    print((i*2)-1,end=\" \")\n",
        "  print()"
      ],
      "metadata": {
        "colab": {
          "base_uri": "https://localhost:8080/"
        },
        "id": "y4l8LvF80IF_",
        "outputId": "75b74c1f-4975-42e8-bab9-0fcc65f05093"
      },
      "execution_count": 68,
      "outputs": [
        {
          "output_type": "stream",
          "name": "stdout",
          "text": [
            "1 \n",
            "3 3 \n",
            "5 5 5 \n",
            "7 7 7 7 \n",
            "9 9 9 9 9 \n"
          ]
        }
      ]
    },
    {
      "cell_type": "code",
      "source": [
        "#Q.9) Accept String & print only alternate characters on a string.\n",
        "# Ex: this i s a _ test\n",
        "n=input(\"Enter a string: \")\n",
        "print(\"Alternate characters are:\")\n",
        "print(n[1::2])"
      ],
      "metadata": {
        "colab": {
          "base_uri": "https://localhost:8080/"
        },
        "id": "Fkg3TANR5JC3",
        "outputId": "0be7b2e3-1379-4255-d9a6-c12e43435cc7"
      },
      "execution_count": 67,
      "outputs": [
        {
          "output_type": "stream",
          "name": "stdout",
          "text": [
            "Enter a string: this is a test\n",
            "Alternate characters are:\n",
            "hsi  et\n"
          ]
        }
      ]
    },
    {
      "cell_type": "code",
      "source": [
        "#Q.10)\n",
        "class Maths:\n",
        "  def Set_data(self):\n",
        "    self.a=int(input(\"Enter first number: \"))\n",
        "    self.b=int(input(\"Enter second number: \"))\n",
        "  \n",
        "  def Add(self):\n",
        "    self.addition=self.a + self.b\n",
        "    print(\"Addition=\",self.addition)\n",
        "  \n",
        "  def Div(self):\n",
        "    if self.b==0:\n",
        "      print(\"Division not possible\")\n",
        "    else:\n",
        "      self.division=self.a/self.b\n",
        "    print(\"Division=\",self.division)\n",
        "  \n",
        "  def Sub(self):\n",
        "    self.subtract=self.a - self.b\n",
        "    print(\"Subtraction=\",self.subtract)\n",
        "\n",
        "  def Mul(self):\n",
        "    self.multiply=self.a * self.b\n",
        "    print(\"Multiplication=\",self.multiply)\n",
        "\n"
      ],
      "metadata": {
        "id": "mGNlg6c39UJA"
      },
      "execution_count": 57,
      "outputs": []
    },
    {
      "cell_type": "code",
      "source": [
        "while True:\n",
        "  ch=int(input(\"Enter a choice: \"))\n",
        "  if ch==1:\n",
        "    s1.Set_data()\n",
        "    continue\n",
        "  if ch==2:\n",
        "    s1.Add()\n",
        "    continue\n",
        "  elif ch==3:\n",
        "    s1.Sub()\n",
        "    continue\n",
        "  elif ch==4:\n",
        "    s1.Mul()\n",
        "    continue\n",
        "  elif ch==5:\n",
        "    s1.Div()\n",
        "    continue\n",
        "  elif ch==6:\n",
        "    break\n",
        "  else:\n",
        "    print(\"Enter correct choice\")\n",
        "\n",
        "s1=Maths()"
      ],
      "metadata": {
        "colab": {
          "base_uri": "https://localhost:8080/"
        },
        "id": "4WIZvr0iBDfa",
        "outputId": "08c989bc-878e-488a-ac2c-ab8440e6de83"
      },
      "execution_count": 73,
      "outputs": [
        {
          "name": "stdout",
          "output_type": "stream",
          "text": [
            "Enter a choice: 20\n",
            "Enter correct choice\n",
            "Enter a choice: 1\n",
            "Enter first number: 20\n",
            "Enter second number: 10\n",
            "Enter a choice: 2\n",
            "Addition= 30\n",
            "Enter a choice: 3\n",
            "Subtraction= 10\n",
            "Enter a choice: 4\n",
            "Multiplication= 200\n",
            "Enter a choice: 5\n",
            "Division= 2.0\n",
            "Enter a choice: 6\n"
          ]
        }
      ]
    },
    {
      "cell_type": "code",
      "source": [
        ""
      ],
      "metadata": {
        "id": "79dJhq5UGtSn"
      },
      "execution_count": null,
      "outputs": []
    }
  ]
}